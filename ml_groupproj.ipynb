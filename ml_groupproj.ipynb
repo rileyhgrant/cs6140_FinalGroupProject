{
 "cells": [
  {
   "cell_type": "markdown",
   "metadata": {
    "id": "2JD0_d3jrUrD"
   },
   "source": [
    "# CS 6140 Machine Learning: Final Group Project\n",
    "## Philip Butler, Riley Grant, Benjamin Ruzzo"
   ]
  },
  {
   "cell_type": "markdown",
   "metadata": {},
   "source": [
    "words words words"
   ]
  },
  {
   "cell_type": "code",
   "execution_count": 13,
   "metadata": {},
   "outputs": [],
   "source": [
    "import sklearn\n",
    "import numpy as np\n",
    "import pandas as pd\n",
    "import matplotlib\n",
    "import seaborn as sbn"
   ]
  },
  {
   "cell_type": "markdown",
   "metadata": {},
   "source": [
    "words words words"
   ]
  },
  {
   "cell_type": "code",
   "execution_count": null,
   "metadata": {},
   "outputs": [],
   "source": [
    "# code code code"
   ]
  }
 ],
 "metadata": {
  "colab": {
   "name": "ML_Assign_4_W22.ipynb",
   "provenance": [],
   "toc_visible": true
  },
  "kernelspec": {
   "display_name": "final_venv",
   "language": "python",
   "name": "final_venv"
  },
  "language_info": {
   "codemirror_mode": {
    "name": "ipython",
    "version": 3
   },
   "file_extension": ".py",
   "mimetype": "text/x-python",
   "name": "python",
   "nbconvert_exporter": "python",
   "pygments_lexer": "ipython3",
   "version": "3.10.2"
  }
 },
 "nbformat": 4,
 "nbformat_minor": 4
}
